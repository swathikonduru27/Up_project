{
  "nbformat": 4,
  "nbformat_minor": 0,
  "metadata": {
    "accelerator": "TPU",
    "colab": {
      "name": "Plant disease detection base model.ipynb",
      "provenance": [],
      "collapsed_sections": [],
      "mount_file_id": "1VyYb7xTec8ea20BPUz_OVPXtt4u37J0d",
      "authorship_tag": "ABX9TyMTkg2/QmWfCI3ahMsOB6Gq",
      "include_colab_link": true
    },
    "kernelspec": {
      "display_name": "Python 3",
      "name": "python3"
    },
    "language_info": {
      "name": "python"
    }
  },
  "cells": [
    {
      "cell_type": "markdown",
      "metadata": {
        "id": "view-in-github",
        "colab_type": "text"
      },
      "source": [
        "<a href=\"https://colab.research.google.com/github/kushal-h/Deep-Learning-Implementations/blob/master/CNN/Plant_disease_detection_base_model.ipynb\" target=\"_parent\"><img src=\"https://colab.research.google.com/assets/colab-badge.svg\" alt=\"Open In Colab\"/></a>"
      ]
    },
    {
      "cell_type": "code",
      "metadata": {
        "id": "cQLWDEZvb6sw"
      },
      "source": [
        "from google.colab import files\n",
        "\n",
        "files.upload()"
      ],
      "execution_count": null,
      "outputs": []
    },
    {
      "cell_type": "code",
      "metadata": {
        "id": "-NLfQqlqcNUp"
      },
      "source": [
        "! mkdir ~/.kaggle\n",
        "! cp kaggle.json ~/.kaggle/\n",
        "! chmod 600 ~/.kaggle/kaggle.json"
      ],
      "execution_count": null,
      "outputs": []
    },
    {
      "cell_type": "code",
      "metadata": {
        "colab": {
          "base_uri": "https://localhost:8080/"
        },
        "id": "K0CYo2F-CJtE",
        "outputId": "1ec9f573-005f-4fd4-a3db-1bdcf3fa527e"
      },
      "source": [
        "!kaggle datasets download -d abdallahalidev/plantvillage-dataset"
      ],
      "execution_count": null,
      "outputs": [
        {
          "output_type": "stream",
          "text": [
            "Downloading plantvillage-dataset.zip to /content\n",
            " 99% 2.03G/2.04G [00:18<00:00, 116MB/s]\n",
            "100% 2.04G/2.04G [00:18<00:00, 117MB/s]\n"
          ],
          "name": "stdout"
        }
      ]
    },
    {
      "cell_type": "code",
      "metadata": {
        "id": "5PdiEEsppXeY"
      },
      "source": [
        "!unzip /content/plantvillage-dataset.zip"
      ],
      "execution_count": null,
      "outputs": []
    },
    {
      "cell_type": "markdown",
      "metadata": {
        "id": "tiOv8q2LZuki"
      },
      "source": [
        "Installing folder split library"
      ]
    },
    {
      "cell_type": "code",
      "metadata": {
        "colab": {
          "base_uri": "https://localhost:8080/"
        },
        "id": "bArwwsy7Zrh9",
        "outputId": "b3ef58e5-1358-4af3-8c4d-529734c5d6ff"
      },
      "source": [
        "!pip install split-folders"
      ],
      "execution_count": null,
      "outputs": [
        {
          "output_type": "stream",
          "text": [
            "Requirement already satisfied: split-folders in /usr/local/lib/python3.7/dist-packages (0.4.3)\n"
          ],
          "name": "stdout"
        }
      ]
    },
    {
      "cell_type": "markdown",
      "metadata": {
        "id": "1jDKqAmYaLNm"
      },
      "source": [
        "Splitting the data into test and training dataset"
      ]
    },
    {
      "cell_type": "code",
      "metadata": {
        "colab": {
          "base_uri": "https://localhost:8080/"
        },
        "id": "hlq0L5NPaID9",
        "outputId": "f8158b5a-030b-43be-bc5b-8c0d5a6c9121"
      },
      "source": [
        "import splitfolders  # or import split_folders\n",
        "\n",
        "# Split with a ratio.\n",
        "# To only split into training and validation set, set a tuple to `ratio`, i.e, `(.8, .2)`.\n",
        "splitfolders.ratio('/content/plantvillage dataset/segmented', output=\"out\", seed=1337, ratio=(0.9, 0.1),\n",
        "                   group_prefix=None) # default values"
      ],
      "execution_count": null,
      "outputs": [
        {
          "output_type": "stream",
          "text": [
            "\n",
            "Copying files: 0 files [00:00, ? files/s]\u001b[A\n",
            "Copying files: 622 files [00:00, 6215.74 files/s]\u001b[A\n",
            "Copying files: 1100 files [00:00, 5700.57 files/s]\u001b[A\n",
            "Copying files: 1913 files [00:00, 6260.73 files/s]\u001b[A\n",
            "Copying files: 2541 files [00:00, 6264.52 files/s]\u001b[A\n",
            "Copying files: 3260 files [00:00, 6512.28 files/s]\u001b[A\n",
            "Copying files: 3921 files [00:00, 5205.70 files/s]\u001b[A\n",
            "Copying files: 4497 files [00:00, 5359.24 files/s]\u001b[A\n",
            "Copying files: 5196 files [00:00, 5760.74 files/s]\u001b[A\n",
            "Copying files: 5771 files [00:00, 5646.92 files/s]\u001b[A\n",
            "Copying files: 6442 files [00:01, 5926.70 files/s]\u001b[A\n",
            "Copying files: 7038 files [00:01, 5753.93 files/s]\u001b[A\n",
            "Copying files: 7769 files [00:01, 6144.68 files/s]\u001b[A\n",
            "Copying files: 8394 files [00:01, 5972.02 files/s]\u001b[A\n",
            "Copying files: 9105 files [00:01, 6271.65 files/s]\u001b[A\n",
            "Copying files: 9742 files [00:01, 3133.51 files/s]\u001b[A\n",
            "Copying files: 10232 files [00:02, 2853.53 files/s]\u001b[A\n",
            "Copying files: 10646 files [00:02, 3086.39 files/s]\u001b[A\n",
            "Copying files: 11050 files [00:02, 3063.10 files/s]\u001b[A\n",
            "Copying files: 11655 files [00:02, 3595.01 files/s]\u001b[A\n",
            "Copying files: 12098 files [00:02, 3613.87 files/s]\u001b[A\n",
            "Copying files: 12546 files [00:02, 3667.11 files/s]\u001b[A\n",
            "Copying files: 13021 files [00:02, 3935.98 files/s]\u001b[A\n",
            "Copying files: 13663 files [00:02, 4452.20 files/s]\u001b[A\n",
            "Copying files: 14371 files [00:03, 5008.68 files/s]\u001b[A\n",
            "Copying files: 14928 files [00:03, 5009.72 files/s]\u001b[A\n",
            "Copying files: 15627 files [00:03, 5442.95 files/s]\u001b[A\n",
            "Copying files: 16210 files [00:03, 5257.16 files/s]\u001b[A\n",
            "Copying files: 16956 files [00:03, 5767.91 files/s]\u001b[A\n",
            "Copying files: 17568 files [00:03, 5432.14 files/s]\u001b[A\n",
            "Copying files: 18140 files [00:03, 5471.00 files/s]\u001b[A\n",
            "Copying files: 18843 files [00:03, 5860.43 files/s]\u001b[A\n",
            "Copying files: 19511 files [00:03, 6082.75 files/s]\u001b[A\n",
            "Copying files: 20137 files [00:04, 4745.80 files/s]\u001b[A\n",
            "Copying files: 20845 files [00:04, 5266.14 files/s]\u001b[A\n",
            "Copying files: 21430 files [00:04, 5199.55 files/s]\u001b[A\n",
            "Copying files: 22146 files [00:04, 5664.45 files/s]\u001b[A\n",
            "Copying files: 22754 files [00:04, 5589.18 files/s]\u001b[A\n",
            "Copying files: 23342 files [00:04, 5388.75 files/s]\u001b[A\n",
            "Copying files: 23903 files [00:04, 5145.73 files/s]\u001b[A\n",
            "Copying files: 24436 files [00:04, 4613.52 files/s]\u001b[A\n",
            "Copying files: 24920 files [00:05, 3961.42 files/s]\u001b[A\n",
            "Copying files: 25349 files [00:05, 2461.48 files/s]\u001b[A\n",
            "Copying files: 25688 files [00:05, 2231.70 files/s]\u001b[A\n",
            "Copying files: 25981 files [00:05, 2033.29 files/s]\u001b[A\n",
            "Copying files: 26237 files [00:05, 1940.25 files/s]\u001b[A\n",
            "Copying files: 26786 files [00:06, 2406.84 files/s]\u001b[A\n",
            "Copying files: 27113 files [00:06, 2052.74 files/s]\u001b[A\n",
            "Copying files: 27489 files [00:06, 2376.10 files/s]\u001b[A\n",
            "Copying files: 27806 files [00:06, 2568.50 files/s]\u001b[A\n",
            "Copying files: 28238 files [00:06, 2923.59 files/s]\u001b[A\n",
            "Copying files: 28646 files [00:06, 3075.14 files/s]\u001b[A\n",
            "Copying files: 29144 files [00:06, 3473.64 files/s]\u001b[A\n",
            "Copying files: 29635 files [00:06, 3806.57 files/s]\u001b[A\n",
            "Copying files: 30057 files [00:06, 3673.44 files/s]\u001b[A\n",
            "Copying files: 30509 files [00:07, 3825.77 files/s]\u001b[A\n",
            "Copying files: 31006 files [00:07, 4107.37 files/s]\u001b[A\n",
            "Copying files: 31690 files [00:07, 4445.20 files/s]\u001b[A\n",
            "Copying files: 32449 files [00:07, 5075.52 files/s]\u001b[A\n",
            "Copying files: 33123 files [00:07, 5481.27 files/s]\u001b[A\n",
            "Copying files: 33714 files [00:07, 5302.85 files/s]\u001b[A\n",
            "Copying files: 34485 files [00:07, 5849.71 files/s]\u001b[A\n",
            "Copying files: 35233 files [00:07, 6258.21 files/s]\u001b[A\n",
            "Copying files: 35895 files [00:08, 4967.72 files/s]\u001b[A\n",
            "Copying files: 36581 files [00:08, 5415.37 files/s]\u001b[A\n",
            "Copying files: 37182 files [00:08, 5122.97 files/s]\u001b[A\n",
            "Copying files: 37871 files [00:08, 5549.54 files/s]\u001b[A\n",
            "Copying files: 38468 files [00:08, 4412.56 files/s]\u001b[A\n",
            "Copying files: 38975 files [00:08, 3822.27 files/s]\u001b[A\n",
            "Copying files: 39418 files [00:08, 2988.71 files/s]\u001b[A\n",
            "Copying files: 39943 files [00:09, 3432.12 files/s]\u001b[A\n",
            "Copying files: 40614 files [00:09, 4021.39 files/s]\u001b[A\n",
            "Copying files: 41253 files [00:09, 4524.08 files/s]\u001b[A\n",
            "Copying files: 41892 files [00:09, 4958.22 files/s]\u001b[A\n",
            "Copying files: 42621 files [00:09, 5484.00 files/s]\u001b[A\n",
            "Copying files: 43237 files [00:09, 5340.52 files/s]\u001b[A\n",
            "Copying files: 43865 files [00:09, 5589.51 files/s]\u001b[A\n",
            "Copying files: 44461 files [00:09, 4763.72 files/s]\u001b[A\n",
            "Copying files: 44985 files [00:10, 4163.81 files/s]\u001b[A\n",
            "Copying files: 45448 files [00:10, 4195.80 files/s]\u001b[A\n",
            "Copying files: 45933 files [00:10, 4353.46 files/s]\u001b[A\n",
            "Copying files: 46393 files [00:10, 3475.40 files/s]\u001b[A\n",
            "Copying files: 46998 files [00:10, 3983.70 files/s]\u001b[A\n",
            "Copying files: 47593 files [00:10, 4422.09 files/s]\u001b[A\n",
            "Copying files: 48339 files [00:10, 5036.38 files/s]\u001b[A\n",
            "Copying files: 48912 files [00:10, 5134.28 files/s]\u001b[A\n",
            "Copying files: 49474 files [00:10, 4947.24 files/s]\u001b[A\n",
            "Copying files: 50005 files [00:11, 5034.05 files/s]\u001b[A\n",
            "Copying files: 50534 files [00:11, 4871.20 files/s]\u001b[A\n",
            "Copying files: 51040 files [00:11, 3574.26 files/s]\u001b[A\n",
            "Copying files: 51461 files [00:11, 3111.35 files/s]\u001b[A\n",
            "Copying files: 51836 files [00:11, 3028.76 files/s]\u001b[A\n",
            "Copying files: 52178 files [00:11, 3034.27 files/s]\u001b[A\n",
            "Copying files: 52509 files [00:11, 2942.27 files/s]\u001b[A\n",
            "Copying files: 52920 files [00:12, 3216.06 files/s]\u001b[A\n",
            "Copying files: 53419 files [00:12, 3598.94 files/s]\u001b[A\n",
            "Copying files: 54306 files [00:12, 4414.64 files/s]\n"
          ],
          "name": "stderr"
        }
      ]
    },
    {
      "cell_type": "markdown",
      "metadata": {
        "id": "1m6omScO1I-z"
      },
      "source": [
        "Import neccessary packages"
      ]
    },
    {
      "cell_type": "code",
      "metadata": {
        "id": "1fa-Hkgcaesc"
      },
      "source": [
        "import numpy as np\n",
        "import pickle\n",
        "import tensorflow as tf\n",
        "from tensorflow.keras.preprocessing.image import ImageDataGenerator\n",
        "from tensorflow.keras.layers import Dense, Flatten, Conv2D, MaxPooling2D, Dropout, Activation\n",
        "from tensorflow.keras.models import Sequential\n",
        "import matplotlib.pyplot as plt"
      ],
      "execution_count": null,
      "outputs": []
    },
    {
      "cell_type": "markdown",
      "metadata": {
        "id": "6EBCV3F-1VzD"
      },
      "source": [
        "Dataset path"
      ]
    },
    {
      "cell_type": "code",
      "metadata": {
        "id": "LaSFUJFR-VEE"
      },
      "source": [
        "train_data_dir = '/content/out/train'\n",
        "val_data_dir = '/content/out/val'"
      ],
      "execution_count": null,
      "outputs": []
    },
    {
      "cell_type": "markdown",
      "metadata": {
        "id": "t6iq_qsjMCBU"
      },
      "source": [
        "Data Generators"
      ]
    },
    {
      "cell_type": "code",
      "metadata": {
        "id": "rg3ktOWd3Roj"
      },
      "source": [
        "# Data Augmentation\n",
        "train_datagen = ImageDataGenerator(\n",
        "     rescale=1./255,\n",
        "     rotation_range=15,\n",
        "     width_shift_range=0.3,\n",
        "     height_shift_range=0.3,\n",
        "     horizontal_flip=True,\n",
        "     fill_mode='nearest'\n",
        ")\n",
        "\n",
        "validation_datagen = ImageDataGenerator(rescale=1./255)"
      ],
      "execution_count": null,
      "outputs": []
    },
    {
      "cell_type": "code",
      "metadata": {
        "colab": {
          "base_uri": "https://localhost:8080/"
        },
        "id": "SvJ0SAeL-DkN",
        "outputId": "c1de0777-43ba-44c4-922a-ea903db4d0de"
      },
      "source": [
        "\n",
        "train_generator = train_datagen.flow_from_directory(\n",
        "    train_data_dir,\n",
        "    target_size=(128,128),\n",
        "    batch_size=228,\n",
        "    class_mode='categorical'\n",
        ")\n",
        "\n",
        "validation_generator = validation_datagen.flow_from_directory(\n",
        "      val_data_dir,\n",
        "      target_size=(128,128),\n",
        "      batch_size=228,\n",
        "      class_mode='categorical')\n"
      ],
      "execution_count": null,
      "outputs": [
        {
          "output_type": "stream",
          "text": [
            "Found 48858 images belonging to 38 classes.\n",
            "Found 5448 images belonging to 38 classes.\n"
          ],
          "name": "stdout"
        }
      ]
    },
    {
      "cell_type": "markdown",
      "metadata": {
        "id": "8_9EstQAjWRE"
      },
      "source": [
        "Model creation"
      ]
    },
    {
      "cell_type": "code",
      "metadata": {
        "id": "0uy2AdMhiF4-"
      },
      "source": [
        "model = Sequential()\n",
        "\n",
        "model.add(Conv2D(32, (3,3), input_shape = (128,128, 3), padding = 'same'))\n",
        "model.add(Activation('relu'))\n",
        "model.add(MaxPooling2D((2,2)))\n",
        "\n",
        "model.add(Conv2D(64, (3,3), padding = 'same'))\n",
        "model.add(Activation('relu'))\n",
        "model.add(MaxPooling2D((2,2)))\n",
        "model.add(Dropout(0.25))\n",
        "\n",
        "model.add(Conv2D(128, (3,3), padding = 'same'))\n",
        "model.add(Activation('relu'))\n",
        "model.add(MaxPooling2D((2,2)))\n",
        "model.add(Dropout(0.25))\n",
        "\n",
        "model.add(Conv2D(256, (3,3), padding = 'same'))\n",
        "model.add(Activation('relu'))\n",
        "model.add(MaxPooling2D((2,2)))\n",
        "model.add(Dropout(0.5))\n",
        "\n",
        "model.add(Flatten())\n",
        "model.add(Dense(512))\n",
        "model.add(Activation('relu'))\n",
        "model.add(Dropout(0.5))\n",
        "model.add(Dense(38))\n",
        "model.add(Activation('softmax'))"
      ],
      "execution_count": null,
      "outputs": []
    },
    {
      "cell_type": "markdown",
      "metadata": {
        "id": "yW7vP0Rejnrm"
      },
      "source": [
        "Model summary"
      ]
    },
    {
      "cell_type": "code",
      "metadata": {
        "colab": {
          "base_uri": "https://localhost:8080/"
        },
        "id": "9itNkYEvjlFL",
        "outputId": "a6f428d1-842d-40a6-da56-22c35baca88e"
      },
      "source": [
        "model.summary()"
      ],
      "execution_count": null,
      "outputs": [
        {
          "output_type": "stream",
          "text": [
            "Model: \"sequential\"\n",
            "_________________________________________________________________\n",
            "Layer (type)                 Output Shape              Param #   \n",
            "=================================================================\n",
            "conv2d (Conv2D)              (None, 128, 128, 32)      896       \n",
            "_________________________________________________________________\n",
            "activation (Activation)      (None, 128, 128, 32)      0         \n",
            "_________________________________________________________________\n",
            "max_pooling2d (MaxPooling2D) (None, 64, 64, 32)        0         \n",
            "_________________________________________________________________\n",
            "conv2d_1 (Conv2D)            (None, 64, 64, 64)        18496     \n",
            "_________________________________________________________________\n",
            "activation_1 (Activation)    (None, 64, 64, 64)        0         \n",
            "_________________________________________________________________\n",
            "max_pooling2d_1 (MaxPooling2 (None, 32, 32, 64)        0         \n",
            "_________________________________________________________________\n",
            "dropout (Dropout)            (None, 32, 32, 64)        0         \n",
            "_________________________________________________________________\n",
            "conv2d_2 (Conv2D)            (None, 32, 32, 128)       73856     \n",
            "_________________________________________________________________\n",
            "activation_2 (Activation)    (None, 32, 32, 128)       0         \n",
            "_________________________________________________________________\n",
            "max_pooling2d_2 (MaxPooling2 (None, 16, 16, 128)       0         \n",
            "_________________________________________________________________\n",
            "dropout_1 (Dropout)          (None, 16, 16, 128)       0         \n",
            "_________________________________________________________________\n",
            "conv2d_3 (Conv2D)            (None, 16, 16, 256)       295168    \n",
            "_________________________________________________________________\n",
            "activation_3 (Activation)    (None, 16, 16, 256)       0         \n",
            "_________________________________________________________________\n",
            "max_pooling2d_3 (MaxPooling2 (None, 8, 8, 256)         0         \n",
            "_________________________________________________________________\n",
            "dropout_2 (Dropout)          (None, 8, 8, 256)         0         \n",
            "_________________________________________________________________\n",
            "flatten (Flatten)            (None, 16384)             0         \n",
            "_________________________________________________________________\n",
            "dense (Dense)                (None, 512)               8389120   \n",
            "_________________________________________________________________\n",
            "activation_4 (Activation)    (None, 512)               0         \n",
            "_________________________________________________________________\n",
            "dropout_3 (Dropout)          (None, 512)               0         \n",
            "_________________________________________________________________\n",
            "dense_1 (Dense)              (None, 38)                19494     \n",
            "_________________________________________________________________\n",
            "activation_5 (Activation)    (None, 38)                0         \n",
            "=================================================================\n",
            "Total params: 8,797,030\n",
            "Trainable params: 8,797,030\n",
            "Non-trainable params: 0\n",
            "_________________________________________________________________\n"
          ],
          "name": "stdout"
        }
      ]
    },
    {
      "cell_type": "code",
      "metadata": {
        "id": "DP4uT-7_Ghiy"
      },
      "source": [
        "model.compile(optimizer= 'adam', loss='categorical_crossentropy',\n",
        "                metrics = ['accuracy'])"
      ],
      "execution_count": null,
      "outputs": []
    },
    {
      "cell_type": "markdown",
      "metadata": {
        "id": "Rgd7dFTKPUkA"
      },
      "source": [
        "Traning the model"
      ]
    },
    {
      "cell_type": "code",
      "metadata": {
        "id": "vDJoMGFr5Kt5"
      },
      "source": [
        "model_check_point = tf.keras.callbacks.ModelCheckpoint(filepath='/content/drive/MyDrive/Agridoc model/model.h5', \n",
        "                                                      monitor = 'val_loss',\n",
        "                                                      verbose = 1, \n",
        "                                                      save_best_only= True)"
      ],
      "execution_count": null,
      "outputs": []
    },
    {
      "cell_type": "code",
      "metadata": {
        "id": "rLfenu6A6JBs"
      },
      "source": [
        "callbacks = [model_check_point]  "
      ],
      "execution_count": null,
      "outputs": []
    },
    {
      "cell_type": "code",
      "metadata": {
        "colab": {
          "base_uri": "https://localhost:8080/"
        },
        "id": "I7hx3UN8LtS7",
        "outputId": "27ebc6cc-91ac-43fc-8bf9-f6db589afaa0"
      },
      "source": [
        "history = model.fit(train_generator,epochs=2, validation_data=validation_generator, callbacks = callbacks) "
      ],
      "execution_count": null,
      "outputs": [
        {
          "output_type": "stream",
          "text": [
            "Epoch 1/2\n",
            "215/215 [==============================] - 2206s 10s/step - loss: 1.3011 - accuracy: 0.6248 - val_loss: 0.7856 - val_accuracy: 0.7625\n",
            "\n",
            "Epoch 00001: val_loss improved from inf to 0.78562, saving model to /content/drive/MyDrive/Agridoc model/model.h5\n",
            "Epoch 2/2\n",
            "215/215 [==============================] - 2208s 10s/step - loss: 0.8229 - accuracy: 0.7509 - val_loss: 1.0206 - val_accuracy: 0.7021\n",
            "\n",
            "Epoch 00002: val_loss did not improve from 0.78562\n"
          ],
          "name": "stdout"
        }
      ]
    },
    {
      "cell_type": "markdown",
      "metadata": {
        "id": "pwSfTutCPoS4"
      },
      "source": [
        "test data accuracy"
      ]
    },
    {
      "cell_type": "code",
      "metadata": {
        "colab": {
          "base_uri": "https://localhost:8080/"
        },
        "id": "BwgVG6EZ8pHb",
        "outputId": "5bb16431-d545-42c8-95ab-8f8ae9c5f4fa"
      },
      "source": [
        "model.evaluate(validation_generator)"
      ],
      "execution_count": null,
      "outputs": [
        {
          "output_type": "stream",
          "text": [
            "24/24 [==============================] - 64s 3s/step - loss: 1.0206 - accuracy: 0.7021\n"
          ],
          "name": "stdout"
        },
        {
          "output_type": "execute_result",
          "data": {
            "text/plain": [
              "[1.0205928087234497, 0.7020925283432007]"
            ]
          },
          "metadata": {
            "tags": []
          },
          "execution_count": 45
        }
      ]
    },
    {
      "cell_type": "markdown",
      "metadata": {
        "id": "B-Ooq8iiFwAv"
      },
      "source": [
        "Re-train"
      ]
    },
    {
      "cell_type": "code",
      "metadata": {
        "id": "aqxoxTiz37gL"
      },
      "source": [
        "model = tf.keras.models.load_model(\"/content/drive/MyDrive/Agridoc model/model.h5\")"
      ],
      "execution_count": null,
      "outputs": []
    },
    {
      "cell_type": "markdown",
      "metadata": {
        "id": "6bMUoLFS35ev"
      },
      "source": [
        "Traning the model"
      ]
    },
    {
      "cell_type": "code",
      "metadata": {
        "id": "9PTy8LpW35ev"
      },
      "source": [
        "model_check_point = tf.keras.callbacks.ModelCheckpoint(filepath='/content/drive/MyDrive/Agridoc model/model.h5', \n",
        "                                                     monitor = 'val_loss',\n",
        "                                                      verbose = 1, \n",
        "                                                      save_best_only= True,\n",
        "                                                       mode= 'min')"
      ],
      "execution_count": null,
      "outputs": []
    },
    {
      "cell_type": "code",
      "metadata": {
        "id": "ensZFU4K35ev"
      },
      "source": [
        "callbacks = [model_check_point]  "
      ],
      "execution_count": null,
      "outputs": []
    },
    {
      "cell_type": "code",
      "metadata": {
        "colab": {
          "base_uri": "https://localhost:8080/"
        },
        "id": "CFzSMP8o35ev",
        "outputId": "db6498fb-3171-423f-e101-60676ce81895"
      },
      "source": [
        "history = model.fit(train_generator,epochs=6, validation_data=validation_generator, callbacks = callbacks, initial_epoch = 2) "
      ],
      "execution_count": null,
      "outputs": [
        {
          "output_type": "stream",
          "text": [
            "Epoch 3/6\n",
            "215/215 [==============================] - 2210s 10s/step - loss: 0.7856 - accuracy: 0.7591 - val_loss: 0.8075 - val_accuracy: 0.7555\n",
            "\n",
            "Epoch 00003: val_loss improved from inf to 0.80753, saving model to /content/drive/MyDrive/Agridoc model/model.h5\n",
            "Epoch 4/6\n",
            "215/215 [==============================] - 2196s 10s/step - loss: 0.6646 - accuracy: 0.7917 - val_loss: 1.0941 - val_accuracy: 0.6780\n",
            "\n",
            "Epoch 00004: val_loss did not improve from 0.80753\n",
            "Epoch 5/6\n",
            "215/215 [==============================] - 2196s 10s/step - loss: 0.5679 - accuracy: 0.8226 - val_loss: 0.7756 - val_accuracy: 0.7676\n",
            "\n",
            "Epoch 00005: val_loss improved from 0.80753 to 0.77558, saving model to /content/drive/MyDrive/Agridoc model/model.h5\n",
            "Epoch 6/6\n",
            "215/215 [==============================] - 2189s 10s/step - loss: 0.5082 - accuracy: 0.8396 - val_loss: 0.5435 - val_accuracy: 0.8365\n",
            "\n",
            "Epoch 00006: val_loss improved from 0.77558 to 0.54354, saving model to /content/drive/MyDrive/Agridoc model/model.h5\n"
          ],
          "name": "stdout"
        }
      ]
    },
    {
      "cell_type": "code",
      "metadata": {
        "colab": {
          "base_uri": "https://localhost:8080/"
        },
        "id": "d67AN6qJPN3U",
        "outputId": "fc47d8f0-ad1e-4919-9280-33fa46d0436c"
      },
      "source": [
        "print(\"[INFO] Calculating model accuracy\")\n",
        "scores = model.evaluate(validation_generator)\n",
        "print(f\"Test Accuracy: {scores[1]*100}\")"
      ],
      "execution_count": null,
      "outputs": [
        {
          "output_type": "stream",
          "text": [
            "[INFO] Calculating model accuracy\n",
            "24/24 [==============================] - 65s 3s/step - loss: 0.5435 - accuracy: 0.8365\n",
            "Test Accuracy: 83.64537358283997\n"
          ],
          "name": "stdout"
        }
      ]
    },
    {
      "cell_type": "code",
      "metadata": {
        "colab": {
          "base_uri": "https://localhost:8080/",
          "height": 545
        },
        "id": "maZKPZY7OfFt",
        "outputId": "00d8629a-adeb-498b-dfd8-075d708ba0df"
      },
      "source": [
        "acc = history.history['accuracy']\n",
        "val_acc = history.history['val_accuracy']\n",
        "loss = history.history['loss']\n",
        "val_loss = history.history['val_loss']\n",
        "epochs = range(1, len(acc) + 1)\n",
        "#Train and validation accuracy\n",
        "plt.plot(epochs, acc, 'b', label='Training accurarcy')\n",
        "plt.plot(epochs, val_acc, 'r', label='Validation accurarcy')\n",
        "plt.title('Training and Validation accurarcy')\n",
        "plt.legend()\n",
        "\n",
        "plt.figure()\n",
        "#Train and validation loss\n",
        "plt.plot(epochs, loss, 'b', label='Training loss')\n",
        "plt.plot(epochs, val_loss, 'r', label='Validation loss')\n",
        "plt.title('Training and Validation loss')\n",
        "plt.legend()\n",
        "plt.show()"
      ],
      "execution_count": null,
      "outputs": [
        {
          "output_type": "display_data",
          "data": {
            "image/png": "[encoded data removed]",
            "text/plain": [
              "<Figure size 432x288 with 1 Axes>"
            ]
          },
          "metadata": {
            "tags": [],
            "needs_background": "light"
          }
        },
        {
          "output_type": "display_data",
          "data": {
            "image/png": "[encoded data removed]",
            "text/plain": [
              "<Figure size 432x288 with 1 Axes>"
            ]
          },
          "metadata": {
            "tags": [],
            "needs_background": "light"
          }
        }
      ]
    },
    {
      "cell_type": "markdown",
      "metadata": {
        "id": "Gjf-mFChPsT9"
      },
      "source": [
        "train data accuracy"
      ]
    },
    {
      "cell_type": "code",
      "metadata": {
        "colab": {
          "base_uri": "https://localhost:8080/"
        },
        "id": "mp6FoxyMUi3L",
        "outputId": "b52a1f6a-0519-4d19-b368-8983628c84fe"
      },
      "source": [
        "model.evaluate(validation_generator)"
      ],
      "execution_count": null,
      "outputs": [
        {
          "output_type": "stream",
          "text": [
            "24/24 [==============================] - 65s 3s/step - loss: 0.5435 - accuracy: 0.8365\n"
          ],
          "name": "stdout"
        },
        {
          "output_type": "execute_result",
          "data": {
            "text/plain": [
              "[0.5435417890548706, 0.8364537358283997]"
            ]
          },
          "metadata": {
            "tags": []
          },
          "execution_count": 54
        }
      ]
    },
    {
      "cell_type": "code",
      "metadata": {
        "colab": {
          "base_uri": "https://localhost:8080/"
        },
        "id": "WZ_C3rxl5vK0",
        "outputId": "d647ff18-a027-4e0b-acdf-55ba08023fec"
      },
      "source": [
        "history = model.fit(train_generator,epochs=10, validation_data=validation_generator, callbacks = callbacks, initial_epoch = 6) "
      ],
      "execution_count": null,
      "outputs": [
        {
          "output_type": "stream",
          "text": [
            "Epoch 7/10\n",
            "215/215 [==============================] - 2222s 10s/step - loss: 0.4511 - accuracy: 0.8565 - val_loss: 0.8366 - val_accuracy: 0.7682\n",
            "\n",
            "Epoch 00007: val_loss improved from inf to 0.83661, saving model to /content/drive/MyDrive/Agridoc model/model.h5\n",
            "Epoch 8/10\n",
            "215/215 [==============================] - 2229s 10s/step - loss: 0.4181 - accuracy: 0.8656 - val_loss: 0.6566 - val_accuracy: 0.8058\n",
            "\n",
            "Epoch 00008: val_loss improved from 0.83661 to 0.65664, saving model to /content/drive/MyDrive/Agridoc model/model.h5\n",
            "Epoch 9/10\n",
            "215/215 [==============================] - 2216s 10s/step - loss: 0.3852 - accuracy: 0.8772 - val_loss: 0.8835 - val_accuracy: 0.7575\n",
            "\n",
            "Epoch 00009: val_loss did not improve from 0.65664\n",
            "Epoch 10/10\n",
            "215/215 [==============================] - 2206s 10s/step - loss: 0.3664 - accuracy: 0.8830 - val_loss: 0.3521 - val_accuracy: 0.8939\n",
            "\n",
            "Epoch 00010: val_loss improved from 0.65664 to 0.35210, saving model to /content/drive/MyDrive/Agridoc model/model.h5\n"
          ],
          "name": "stdout"
        }
      ]
    },
    {
      "cell_type": "code",
      "metadata": {
        "colab": {
          "base_uri": "https://localhost:8080/"
        },
        "id": "opWvu6IC5vK-",
        "outputId": "87c47f0c-5f51-413e-a4b6-da8e4cfbf540"
      },
      "source": [
        "print(\"[INFO] Calculating model accuracy\")\n",
        "scores = model.evaluate(validation_generator)\n",
        "print(f\"Test Accuracy: {scores[1]*100}\")"
      ],
      "execution_count": null,
      "outputs": [
        {
          "output_type": "stream",
          "text": [
            "[INFO] Calculating model accuracy\n",
            "24/24 [==============================] - 65s 3s/step - loss: 0.3521 - accuracy: 0.8939\n",
            "Test Accuracy: 89.39059972763062\n"
          ],
          "name": "stdout"
        }
      ]
    },
    {
      "cell_type": "code",
      "metadata": {
        "colab": {
          "base_uri": "https://localhost:8080/",
          "height": 545
        },
        "id": "fifuiAx35vK_",
        "outputId": "76544614-be43-4758-934f-cc88996fb306"
      },
      "source": [
        "acc = history.history['accuracy']\n",
        "val_acc = history.history['val_accuracy']\n",
        "loss = history.history['loss']\n",
        "val_loss = history.history['val_loss']\n",
        "epochs = range(1, len(acc) + 1)\n",
        "#Train and validation accuracy\n",
        "plt.plot(epochs, acc, 'b', label='Training accurarcy')\n",
        "plt.plot(epochs, val_acc, 'r', label='Validation accurarcy')\n",
        "plt.title('Training and Validation accurarcy')\n",
        "plt.legend()\n",
        "\n",
        "plt.figure()\n",
        "#Train and validation loss\n",
        "plt.plot(epochs, loss, 'b', label='Training loss')\n",
        "plt.plot(epochs, val_loss, 'r', label='Validation loss')\n",
        "plt.title('Training and Validation loss')\n",
        "plt.legend()\n",
        "plt.show()"
      ],
      "execution_count": null,
      "outputs": [
        {
          "output_type": "display_data",
          "data": {
            "image/png": "[encoded data removed]",
            "text/plain": [
              "<Figure size 432x288 with 1 Axes>"
            ]
          },
          "metadata": {
            "tags": [],
            "needs_background": "light"
          }
        },
        {
          "output_type": "display_data",
          "data": {
            "image/png": "[encoded data removed]",
            "text/plain": [
              "<Figure size 432x288 with 1 Axes>"
            ]
          },
          "metadata": {
            "tags": [],
            "needs_background": "light"
          }
        }
      ]
    },
    {
      "cell_type": "markdown",
      "metadata": {
        "id": "AYW2JA0zKk9L"
      },
      "source": [
        "Re train after 10 epoch"
      ]
    },
    {
      "cell_type": "code",
      "metadata": {
        "id": "GdWOs8dEKiuo"
      },
      "source": [
        "model = tf.keras.models.load_model(\"/content/drive/MyDrive/Agridoc model/model.h5\")"
      ],
      "execution_count": null,
      "outputs": []
    },
    {
      "cell_type": "markdown",
      "metadata": {
        "id": "TbTm4ex2KuxJ"
      },
      "source": [
        "model evaluate before retrain"
      ]
    },
    {
      "cell_type": "code",
      "metadata": {
        "colab": {
          "base_uri": "https://localhost:8080/"
        },
        "id": "YhLYfM_WKtaa",
        "outputId": "ced14c2d-df33-4a4c-d735-811d0a5aed1f"
      },
      "source": [
        "print(\"[INFO] Calculating model accuracy\")\n",
        "scores = model.evaluate(validation_generator)\n",
        "print(f\"Test Accuracy: {scores[1]*100}\")"
      ],
      "execution_count": null,
      "outputs": [
        {
          "output_type": "stream",
          "text": [
            "[INFO] Calculating model accuracy\n",
            "24/24 [==============================] - 66s 3s/step - loss: 0.3521 - accuracy: 0.8939\n",
            "Test Accuracy: 89.39059972763062\n"
          ],
          "name": "stdout"
        }
      ]
    },
    {
      "cell_type": "code",
      "metadata": {
        "id": "g2QtVAvyKiup"
      },
      "source": [
        "model_check_point = tf.keras.callbacks.ModelCheckpoint(filepath='/content/drive/MyDrive/Agridoc model/model.h5', \n",
        "                                                     monitor = 'val_loss',\n",
        "                                                      verbose = 1, \n",
        "                                                      save_best_only= True)"
      ],
      "execution_count": null,
      "outputs": []
    },
    {
      "cell_type": "code",
      "metadata": {
        "id": "PCoCroU1Kiup"
      },
      "source": [
        "callbacks = [model_check_point]  "
      ],
      "execution_count": null,
      "outputs": []
    },
    {
      "cell_type": "code",
      "metadata": {
        "colab": {
          "base_uri": "https://localhost:8080/"
        },
        "id": "AH9e3RRjKiup",
        "outputId": "cf138cf8-555f-49e7-a94a-8781c19d174b"
      },
      "source": [
        "history = model.fit(train_generator,epochs=16, validation_data=validation_generator, callbacks = callbacks, initial_epoch = 10) "
      ],
      "execution_count": null,
      "outputs": [
        {
          "output_type": "stream",
          "text": [
            "Epoch 11/16\n",
            "215/215 [==============================] - 2198s 10s/step - loss: 0.3405 - accuracy: 0.8907 - val_loss: 0.6684 - val_accuracy: 0.8133\n",
            "\n",
            "Epoch 00011: val_loss improved from inf to 0.66844, saving model to /content/drive/MyDrive/Agridoc model/model.h5\n",
            "Epoch 12/16\n",
            "215/215 [==============================] - 2196s 10s/step - loss: 0.3163 - accuracy: 0.8991 - val_loss: 0.6678 - val_accuracy: 0.8183\n",
            "\n",
            "Epoch 00012: val_loss improved from 0.66844 to 0.66781, saving model to /content/drive/MyDrive/Agridoc model/model.h5\n",
            "Epoch 13/16\n",
            "215/215 [==============================] - 2192s 10s/step - loss: 0.2924 - accuracy: 0.9059 - val_loss: 0.7028 - val_accuracy: 0.8142\n",
            "\n",
            "Epoch 00013: val_loss did not improve from 0.66781\n",
            "Epoch 14/16\n",
            "215/215 [==============================] - 2194s 10s/step - loss: 0.2829 - accuracy: 0.9087 - val_loss: 0.5800 - val_accuracy: 0.8297\n",
            "\n",
            "Epoch 00014: val_loss improved from 0.66781 to 0.57997, saving model to /content/drive/MyDrive/Agridoc model/model.h5\n",
            "Epoch 15/16\n",
            "215/215 [==============================] - 2204s 10s/step - loss: 0.2738 - accuracy: 0.9104 - val_loss: 0.4306 - val_accuracy: 0.8823\n",
            "\n",
            "Epoch 00015: val_loss improved from 0.57997 to 0.43060, saving model to /content/drive/MyDrive/Agridoc model/model.h5\n",
            "Epoch 16/16\n",
            "215/215 [==============================] - 2209s 10s/step - loss: 0.2576 - accuracy: 0.9156 - val_loss: 0.8182 - val_accuracy: 0.8064\n",
            "\n",
            "Epoch 00016: val_loss did not improve from 0.43060\n"
          ],
          "name": "stdout"
        }
      ]
    },
    {
      "cell_type": "code",
      "metadata": {
        "colab": {
          "base_uri": "https://localhost:8080/"
        },
        "id": "jHopNXy1LGAd",
        "outputId": "ed518eb2-4752-4344-d413-7010e739f7c7"
      },
      "source": [
        "print(\"[INFO] Calculating model accuracy\")\n",
        "scores = model.evaluate(validation_generator)\n",
        "print(f\"Test Accuracy: {scores[1]*100}\")"
      ],
      "execution_count": null,
      "outputs": [
        {
          "output_type": "stream",
          "text": [
            "[INFO] Calculating model accuracy\n",
            "24/24 [==============================] - 65s 3s/step - loss: 0.8182 - accuracy: 0.8064\n",
            "Test Accuracy: 80.63509464263916\n"
          ],
          "name": "stdout"
        }
      ]
    },
    {
      "cell_type": "code",
      "metadata": {
        "colab": {
          "base_uri": "https://localhost:8080/",
          "height": 545
        },
        "id": "LPedRddXLGAk",
        "outputId": "7cf2f4ab-083a-4c0e-855d-45198ef1e21a"
      },
      "source": [
        "acc = history.history['accuracy']\n",
        "val_acc = history.history['val_accuracy']\n",
        "loss = history.history['loss']\n",
        "val_loss = history.history['val_loss']\n",
        "epochs = range(1, len(acc) + 1)\n",
        "#Train and validation accuracy\n",
        "plt.plot(epochs, acc, 'b', label='Training accurarcy')\n",
        "plt.plot(epochs, val_acc, 'r', label='Validation accurarcy')\n",
        "plt.title('Training and Validation accurarcy')\n",
        "plt.legend()\n",
        "\n",
        "plt.figure()\n",
        "#Train and validation loss\n",
        "plt.plot(epochs, loss, 'b', label='Training loss')\n",
        "plt.plot(epochs, val_loss, 'r', label='Validation loss')\n",
        "plt.title('Training and Validation loss')\n",
        "plt.legend()\n",
        "plt.show()"
      ],
      "execution_count": null,
      "outputs": [
        {
          "output_type": "display_data",
          "data": {
            "image/png": "[encoded data removed]",
            "text/plain": [
              "<Figure size 432x288 with 1 Axes>"
            ]
          },
          "metadata": {
            "tags": [],
            "needs_background": "light"
          }
        },
        {
          "output_type": "display_data",
          "data": {
            "image/png": "[encoded data removed]",
            "text/plain": [
              "<Figure size 432x288 with 1 Axes>"
            ]
          },
          "metadata": {
            "tags": [],
            "needs_background": "light"
          }
        }
      ]
    },
    {
      "cell_type": "code",
      "metadata": {
        "colab": {
          "base_uri": "https://localhost:8080/"
        },
        "id": "BTFkNQ7W-Cno",
        "outputId": "70c7f958-abcb-4438-e691-e72d484abd18"
      },
      "source": [
        "history = model.fit(train_generator,epochs=22, validation_data=validation_generator, callbacks = callbacks, initial_epoch = 16) "
      ],
      "execution_count": null,
      "outputs": [
        {
          "output_type": "stream",
          "text": [
            "Epoch 17/22\n",
            "215/215 [==============================] - 2220s 10s/step - loss: 0.2508 - accuracy: 0.9179 - val_loss: 0.6155 - val_accuracy: 0.8399\n",
            "\n",
            "Epoch 00017: val_loss did not improve from 0.43060\n",
            "Epoch 18/22\n",
            "215/215 [==============================] - 2219s 10s/step - loss: 0.2511 - accuracy: 0.9177 - val_loss: 0.6128 - val_accuracy: 0.8300\n",
            "\n",
            "Epoch 00018: val_loss did not improve from 0.43060\n",
            "Epoch 19/22\n",
            "215/215 [==============================] - 2217s 10s/step - loss: 0.2364 - accuracy: 0.9228 - val_loss: 0.6704 - val_accuracy: 0.8275\n",
            "\n",
            "Epoch 00019: val_loss did not improve from 0.43060\n",
            "Epoch 20/22\n",
            "215/215 [==============================] - 2199s 10s/step - loss: 0.2209 - accuracy: 0.9280 - val_loss: 0.5225 - val_accuracy: 0.8594\n",
            "\n",
            "Epoch 00020: val_loss did not improve from 0.43060\n",
            "Epoch 21/22\n",
            "215/215 [==============================] - 2196s 10s/step - loss: 0.2250 - accuracy: 0.9262 - val_loss: 0.3689 - val_accuracy: 0.8945\n",
            "\n",
            "Epoch 00021: val_loss improved from 0.43060 to 0.36891, saving model to /content/drive/MyDrive/Agridoc model/model.h5\n",
            "Epoch 22/22\n",
            "215/215 [==============================] - 2197s 10s/step - loss: 0.2060 - accuracy: 0.9318 - val_loss: 0.6268 - val_accuracy: 0.8304\n",
            "\n",
            "Epoch 00022: val_loss did not improve from 0.36891\n"
          ],
          "name": "stdout"
        }
      ]
    },
    {
      "cell_type": "code",
      "metadata": {
        "colab": {
          "base_uri": "https://localhost:8080/"
        },
        "id": "Jpza4sa8-Cns",
        "outputId": "8dad3858-82f8-4d67-98d7-a5ff92fcf2db"
      },
      "source": [
        "print(\"[INFO] Calculating model accuracy\")\n",
        "scores = model.evaluate(validation_generator)\n",
        "print(f\"Test Accuracy: {scores[1]*100}\")"
      ],
      "execution_count": null,
      "outputs": [
        {
          "output_type": "stream",
          "text": [
            "[INFO] Calculating model accuracy\n",
            "24/24 [==============================] - 64s 3s/step - loss: 0.6268 - accuracy: 0.8304\n",
            "Test Accuracy: 83.03964734077454\n"
          ],
          "name": "stdout"
        }
      ]
    },
    {
      "cell_type": "code",
      "metadata": {
        "colab": {
          "base_uri": "https://localhost:8080/",
          "height": 545
        },
        "id": "uX4gJhIm-Cns",
        "outputId": "c054093a-dabc-498c-9a3e-6e1e97219419"
      },
      "source": [
        "acc = history.history['accuracy']\n",
        "val_acc = history.history['val_accuracy']\n",
        "loss = history.history['loss']\n",
        "val_loss = history.history['val_loss']\n",
        "epochs = range(1, len(acc) + 1)\n",
        "#Train and validation accuracy\n",
        "plt.plot(epochs, acc, 'b', label='Training accurarcy')\n",
        "plt.plot(epochs, val_acc, 'r', label='Validation accurarcy')\n",
        "plt.title('Training and Validation accurarcy')\n",
        "plt.legend()\n",
        "\n",
        "plt.figure()\n",
        "#Train and validation loss\n",
        "plt.plot(epochs, loss, 'b', label='Training loss')\n",
        "plt.plot(epochs, val_loss, 'r', label='Validation loss')\n",
        "plt.title('Training and Validation loss')\n",
        "plt.legend()\n",
        "plt.show()"
      ],
      "execution_count": null,
      "outputs": [
        {
          "output_type": "display_data",
          "data": {
            "image/png": "[encoded data removed]",
            "text/plain": [
              "<Figure size 432x288 with 1 Axes>"
            ]
          },
          "metadata": {
            "tags": [],
            "needs_background": "light"
          }
        },
        {
          "output_type": "display_data",
          "data": {
            "image/png": "[encoded data removed]",
            "text/plain": [
              "<Figure size 432x288 with 1 Axes>"
            ]
          },
          "metadata": {
            "tags": [],
            "needs_background": "light"
          }
        }
      ]
    },
    {
      "cell_type": "code",
      "metadata": {
        "colab": {
          "base_uri": "https://localhost:8080/"
        },
        "id": "lehtEe8HzMMJ",
        "outputId": "47f9513b-70ff-45b1-d541-4f3e7aba2354"
      },
      "source": [
        "history = model.fit(train_generator,epochs=24, validation_data=validation_generator, callbacks = callbacks, initial_epoch = 22) "
      ],
      "execution_count": null,
      "outputs": [
        {
          "output_type": "stream",
          "text": [
            "Epoch 23/24\n",
            "215/215 [==============================] - 2208s 10s/step - loss: 0.2170 - accuracy: 0.9292 - val_loss: 0.3362 - val_accuracy: 0.9022\n",
            "\n",
            "Epoch 00023: val_loss improved from inf to 0.33619, saving model to /content/drive/MyDrive/Agridoc model/model.h5\n",
            "Epoch 24/24\n",
            "215/215 [==============================] - 2210s 10s/step - loss: 0.2023 - accuracy: 0.9326 - val_loss: 0.7572 - val_accuracy: 0.8102\n",
            "\n",
            "Epoch 00024: val_loss did not improve from 0.33619\n"
          ],
          "name": "stdout"
        }
      ]
    },
    {
      "cell_type": "code",
      "metadata": {
        "colab": {
          "base_uri": "https://localhost:8080/"
        },
        "id": "MdpBKJBOzMMK",
        "outputId": "ab40f957-a5ac-4fe7-b5c4-12ea702bee49"
      },
      "source": [
        "print(\"[INFO] Calculating model accuracy\")\n",
        "scores = model.evaluate(validation_generator)\n",
        "print(f\"Test Accuracy: {scores[1]*100}\")"
      ],
      "execution_count": null,
      "outputs": [
        {
          "output_type": "stream",
          "text": [
            "[INFO] Calculating model accuracy\n",
            "24/24 [==============================] - 65s 3s/step - loss: 0.7572 - accuracy: 0.8102\n",
            "Test Accuracy: 81.02055788040161\n"
          ],
          "name": "stdout"
        }
      ]
    },
    {
      "cell_type": "code",
      "metadata": {
        "colab": {
          "base_uri": "https://localhost:8080/",
          "height": 545
        },
        "id": "VPO4udpqzMMK",
        "outputId": "b804516d-9ebf-4c37-a064-9ce4638fc0a9"
      },
      "source": [
        "acc = history.history['accuracy']\n",
        "val_acc = history.history['val_accuracy']\n",
        "loss = history.history['loss']\n",
        "val_loss = history.history['val_loss']\n",
        "epochs = range(1, len(acc) + 1)\n",
        "#Train and validation accuracy\n",
        "plt.plot(epochs, acc, 'b', label='Training accurarcy')\n",
        "plt.plot(epochs, val_acc, 'r', label='Validation accurarcy')\n",
        "plt.title('Training and Validation accurarcy')\n",
        "plt.legend()\n",
        "\n",
        "plt.figure()\n",
        "#Train and validation loss\n",
        "plt.plot(epochs, loss, 'b', label='Training loss')\n",
        "plt.plot(epochs, val_loss, 'r', label='Validation loss')\n",
        "plt.title('Training and Validation loss')\n",
        "plt.legend()\n",
        "plt.show()"
      ],
      "execution_count": null,
      "outputs": [
        {
          "output_type": "display_data",
          "data": {
            "image/png": "[encoded data removed]",
            "text/plain": [
              "<Figure size 432x288 with 1 Axes>"
            ]
          },
          "metadata": {
            "tags": [],
            "needs_background": "light"
          }
        },
        {
          "output_type": "display_data",
          "data": {
            "image/png": "[encoded data removed]",
            "text/plain": [
              "<Figure size 432x288 with 1 Axes>"
            ]
          },
          "metadata": {
            "tags": [],
            "needs_background": "light"
          }
        }
      ]
    },
    {
      "cell_type": "code",
      "metadata": {
        "id": "3Q1quR6WzQwd"
      },
      "source": [
        "model1 = tf.keras.models.load_model(\"/content/drive/MyDrive/Agridoc model/model.h5\")"
      ],
      "execution_count": null,
      "outputs": []
    },
    {
      "cell_type": "code",
      "metadata": {
        "colab": {
          "base_uri": "https://localhost:8080/"
        },
        "id": "apytf2s1JZmu",
        "outputId": "1ea47608-253e-424a-e3af-c2cf5a7cc2c0"
      },
      "source": [
        "print(\"[INFO] Calculating model accuracy\")\n",
        "scores = model1.evaluate(validation_generator)\n",
        "print(f\"Test Accuracy: {scores[1]*100}\")"
      ],
      "execution_count": null,
      "outputs": [
        {
          "output_type": "stream",
          "text": [
            "[INFO] Calculating model accuracy\n",
            "24/24 [==============================] - 64s 3s/step - loss: 0.3362 - accuracy: 0.9022\n",
            "Test Accuracy: 90.2165949344635\n"
          ],
          "name": "stdout"
        }
      ]
    }
  ]
}